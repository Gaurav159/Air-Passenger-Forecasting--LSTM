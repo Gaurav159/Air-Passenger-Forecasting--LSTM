{
 "cells": [
  {
   "cell_type": "code",
   "execution_count": 1,
   "metadata": {},
   "outputs": [],
   "source": [
    "import pandas as pd\n",
    "import numpy as np"
   ]
  },
  {
   "cell_type": "code",
   "execution_count": 3,
   "metadata": {},
   "outputs": [],
   "source": [
    "df=pd.read_csv(\"C:/Users/gaura/OneDrive/Desktop/Data Science/AI & Deep Learning/Class 13-14 Files/Final Projects/3. Airlines Passengers Forecasting/International Airline Passengers.csv\")"
   ]
  },
  {
   "cell_type": "code",
   "execution_count": 4,
   "metadata": {},
   "outputs": [
    {
     "data": {
      "text/html": [
       "<div>\n",
       "<style scoped>\n",
       "    .dataframe tbody tr th:only-of-type {\n",
       "        vertical-align: middle;\n",
       "    }\n",
       "\n",
       "    .dataframe tbody tr th {\n",
       "        vertical-align: top;\n",
       "    }\n",
       "\n",
       "    .dataframe thead th {\n",
       "        text-align: right;\n",
       "    }\n",
       "</style>\n",
       "<table border=\"1\" class=\"dataframe\">\n",
       "  <thead>\n",
       "    <tr style=\"text-align: right;\">\n",
       "      <th></th>\n",
       "      <th>Month</th>\n",
       "      <th>No_passengers_thousands</th>\n",
       "    </tr>\n",
       "  </thead>\n",
       "  <tbody>\n",
       "    <tr>\n",
       "      <th>0</th>\n",
       "      <td>1949-01</td>\n",
       "      <td>112</td>\n",
       "    </tr>\n",
       "    <tr>\n",
       "      <th>1</th>\n",
       "      <td>1949-02</td>\n",
       "      <td>118</td>\n",
       "    </tr>\n",
       "    <tr>\n",
       "      <th>2</th>\n",
       "      <td>1949-03</td>\n",
       "      <td>132</td>\n",
       "    </tr>\n",
       "    <tr>\n",
       "      <th>3</th>\n",
       "      <td>1949-04</td>\n",
       "      <td>129</td>\n",
       "    </tr>\n",
       "    <tr>\n",
       "      <th>4</th>\n",
       "      <td>1949-05</td>\n",
       "      <td>121</td>\n",
       "    </tr>\n",
       "  </tbody>\n",
       "</table>\n",
       "</div>"
      ],
      "text/plain": [
       "     Month  No_passengers_thousands\n",
       "0  1949-01                      112\n",
       "1  1949-02                      118\n",
       "2  1949-03                      132\n",
       "3  1949-04                      129\n",
       "4  1949-05                      121"
      ]
     },
     "execution_count": 4,
     "metadata": {},
     "output_type": "execute_result"
    }
   ],
   "source": [
    "df.head()"
   ]
  },
  {
   "cell_type": "code",
   "execution_count": 5,
   "metadata": {},
   "outputs": [],
   "source": [
    "import matplotlib.pyplot as plt"
   ]
  },
  {
   "cell_type": "code",
   "execution_count": 6,
   "metadata": {},
   "outputs": [
    {
     "data": {
      "image/png": "[encoded data removed]",
      "text/plain": [
       "<Figure size 432x288 with 1 Axes>"
      ]
     },
     "metadata": {
      "needs_background": "light"
     },
     "output_type": "display_data"
    }
   ],
   "source": [
    "dataset = df.iloc[:,1].values\n",
    "plt.plot(dataset)\n",
    "plt.xlabel(\"time\")\n",
    "plt.ylabel(\"Number of Passenger\")\n",
    "plt.title(\"international airline passenger\")\n",
    "plt.show()"
   ]
  },
  {
   "cell_type": "markdown",
   "metadata": {},
   "source": [
    "Preprocessing Data"
   ]
  },
  {
   "cell_type": "code",
   "execution_count": 9,
   "metadata": {},
   "outputs": [
    {
     "name": "stdout",
     "output_type": "stream",
     "text": [
      "<class 'pandas.core.frame.DataFrame'>\n",
      "RangeIndex: 144 entries, 0 to 143\n",
      "Data columns (total 2 columns):\n",
      " #   Column                   Non-Null Count  Dtype \n",
      "---  ------                   --------------  ----- \n",
      " 0   Month                    144 non-null    object\n",
      " 1   No_passengers_thousands  144 non-null    int64 \n",
      "dtypes: int64(1), object(1)\n",
      "memory usage: 2.4+ KB\n"
     ]
    }
   ],
   "source": [
    "df.info()"
   ]
  },
  {
   "cell_type": "code",
   "execution_count": 11,
   "metadata": {},
   "outputs": [],
   "source": [
    "from sklearn.preprocessing import MinMaxScaler"
   ]
  },
  {
   "cell_type": "code",
   "execution_count": 17,
   "metadata": {},
   "outputs": [],
   "source": [
    "#scaling \n",
    "scaler=MinMaxScaler(feature_range=(0,1))\n",
    "df=scaler.fit_transform(df)"
   ]
  },
  {
   "cell_type": "code",
   "execution_count": 18,
   "metadata": {},
   "outputs": [
    {
     "data": {
      "text/plain": [
       "(144, 1)"
      ]
     },
     "execution_count": 18,
     "metadata": {},
     "output_type": "execute_result"
    }
   ],
   "source": [
    "df.shape"
   ]
  },
  {
   "cell_type": "code",
   "execution_count": 19,
   "metadata": {},
   "outputs": [
    {
     "data": {
      "text/plain": [
       "array([[0.01544402],\n",
       "       [0.02702703],\n",
       "       [0.05405405],\n",
       "       [0.04826255],\n",
       "       [0.03281853],\n",
       "       [0.05984556],\n",
       "       [0.08494208],\n",
       "       [0.08494208],\n",
       "       [0.06177606],\n",
       "       [0.02895753],\n",
       "       [0.        ],\n",
       "       [0.02702703],\n",
       "       [0.02123552],\n",
       "       [0.04247104],\n",
       "       [0.07142857],\n",
       "       [0.05984556],\n",
       "       [0.04054054],\n",
       "       [0.08687259],\n",
       "       [0.12741313],\n",
       "       [0.12741313],\n",
       "       [0.1042471 ],\n",
       "       [0.05598456],\n",
       "       [0.01930502],\n",
       "       [0.06949807],\n",
       "       [0.07915058],\n",
       "       [0.08880309],\n",
       "       [0.14285714],\n",
       "       [0.11389961],\n",
       "       [0.13127413],\n",
       "       [0.14285714],\n",
       "       [0.18339768],\n",
       "       [0.18339768],\n",
       "       [0.15444015],\n",
       "       [0.11196911],\n",
       "       [0.08108108],\n",
       "       [0.11969112],\n",
       "       [0.12934363],\n",
       "       [0.14671815],\n",
       "       [0.17181467],\n",
       "       [0.14864865],\n",
       "       [0.15250965],\n",
       "       [0.22007722],\n",
       "       [0.24324324],\n",
       "       [0.26640927],\n",
       "       [0.2027027 ],\n",
       "       [0.16795367],\n",
       "       [0.13127413],\n",
       "       [0.17374517],\n",
       "       [0.17760618],\n",
       "       [0.17760618],\n",
       "       [0.25482625],\n",
       "       [0.25289575],\n",
       "       [0.24131274],\n",
       "       [0.26833977],\n",
       "       [0.30888031],\n",
       "       [0.32432432],\n",
       "       [0.25675676],\n",
       "       [0.20656371],\n",
       "       [0.14671815],\n",
       "       [0.18725869],\n",
       "       [0.19305019],\n",
       "       [0.16216216],\n",
       "       [0.25289575],\n",
       "       [0.23745174],\n",
       "       [0.25096525],\n",
       "       [0.30888031],\n",
       "       [0.38223938],\n",
       "       [0.36486486],\n",
       "       [0.2992278 ],\n",
       "       [0.24131274],\n",
       "       [0.19111969],\n",
       "       [0.24131274],\n",
       "       [0.26640927],\n",
       "       [0.24903475],\n",
       "       [0.31467181],\n",
       "       [0.31853282],\n",
       "       [0.32046332],\n",
       "       [0.40733591],\n",
       "       [0.5019305 ],\n",
       "       [0.46911197],\n",
       "       [0.4015444 ],\n",
       "       [0.32818533],\n",
       "       [0.25675676],\n",
       "       [0.33590734],\n",
       "       [0.34749035],\n",
       "       [0.33397683],\n",
       "       [0.41119691],\n",
       "       [0.4034749 ],\n",
       "       [0.41312741],\n",
       "       [0.52123552],\n",
       "       [0.5965251 ],\n",
       "       [0.58108108],\n",
       "       [0.48455598],\n",
       "       [0.38996139],\n",
       "       [0.32239382],\n",
       "       [0.38996139],\n",
       "       [0.40733591],\n",
       "       [0.38030888],\n",
       "       [0.48648649],\n",
       "       [0.47104247],\n",
       "       [0.48455598],\n",
       "       [0.61389961],\n",
       "       [0.6969112 ],\n",
       "       [0.7007722 ],\n",
       "       [0.57915058],\n",
       "       [0.46911197],\n",
       "       [0.38803089],\n",
       "       [0.44787645],\n",
       "       [0.45559846],\n",
       "       [0.41312741],\n",
       "       [0.4980695 ],\n",
       "       [0.47104247],\n",
       "       [0.5       ],\n",
       "       [0.63899614],\n",
       "       [0.74710425],\n",
       "       [0.77413127],\n",
       "       [0.57915058],\n",
       "       [0.49227799],\n",
       "       [0.3976834 ],\n",
       "       [0.44980695],\n",
       "       [0.49420849],\n",
       "       [0.45945946],\n",
       "       [0.58301158],\n",
       "       [0.56370656],\n",
       "       [0.61003861],\n",
       "       [0.71042471],\n",
       "       [0.85714286],\n",
       "       [0.87837838],\n",
       "       [0.69305019],\n",
       "       [0.58494208],\n",
       "       [0.4980695 ],\n",
       "       [0.58108108],\n",
       "       [0.6042471 ],\n",
       "       [0.55405405],\n",
       "       [0.60810811],\n",
       "       [0.68918919],\n",
       "       [0.71042471],\n",
       "       [0.83204633],\n",
       "       [1.        ],\n",
       "       [0.96911197],\n",
       "       [0.77992278],\n",
       "       [0.68918919],\n",
       "       [0.55212355],\n",
       "       [0.63320463]])"
      ]
     },
     "execution_count": 19,
     "metadata": {},
     "output_type": "execute_result"
    }
   ],
   "source": [
    "df"
   ]
  },
  {
   "cell_type": "code",
   "execution_count": 158,
   "metadata": {},
   "outputs": [],
   "source": [
    "##splitting dataset into train and test split\n",
    "training_size=int(len(df)*0.65)\n",
    "test_size=len(df)-training_size"
   ]
  },
  {
   "cell_type": "code",
   "execution_count": 159,
   "metadata": {},
   "outputs": [
    {
     "data": {
      "text/plain": [
       "93"
      ]
     },
     "execution_count": 159,
     "metadata": {},
     "output_type": "execute_result"
    }
   ],
   "source": [
    "training_size"
   ]
  },
  {
   "cell_type": "code",
   "execution_count": 160,
   "metadata": {},
   "outputs": [
    {
     "data": {
      "text/plain": [
       "51"
      ]
     },
     "execution_count": 160,
     "metadata": {},
     "output_type": "execute_result"
    }
   ],
   "source": [
    "test_size"
   ]
  },
  {
   "cell_type": "code",
   "execution_count": 161,
   "metadata": {},
   "outputs": [],
   "source": [
    "train_data,test_data=df[0:training_size,:],df[training_size:len(df),:1]"
   ]
  },
  {
   "cell_type": "code",
   "execution_count": 162,
   "metadata": {},
   "outputs": [
    {
     "data": {
      "text/plain": [
       "array([[0.38996139],\n",
       "       [0.32239382],\n",
       "       [0.38996139],\n",
       "       [0.40733591],\n",
       "       [0.38030888],\n",
       "       [0.48648649],\n",
       "       [0.47104247],\n",
       "       [0.48455598],\n",
       "       [0.61389961],\n",
       "       [0.6969112 ],\n",
       "       [0.7007722 ],\n",
       "       [0.57915058],\n",
       "       [0.46911197],\n",
       "       [0.38803089],\n",
       "       [0.44787645],\n",
       "       [0.45559846],\n",
       "       [0.41312741],\n",
       "       [0.4980695 ],\n",
       "       [0.47104247],\n",
       "       [0.5       ],\n",
       "       [0.63899614],\n",
       "       [0.74710425],\n",
       "       [0.77413127],\n",
       "       [0.57915058],\n",
       "       [0.49227799],\n",
       "       [0.3976834 ],\n",
       "       [0.44980695],\n",
       "       [0.49420849],\n",
       "       [0.45945946],\n",
       "       [0.58301158],\n",
       "       [0.56370656],\n",
       "       [0.61003861],\n",
       "       [0.71042471],\n",
       "       [0.85714286],\n",
       "       [0.87837838],\n",
       "       [0.69305019],\n",
       "       [0.58494208],\n",
       "       [0.4980695 ],\n",
       "       [0.58108108],\n",
       "       [0.6042471 ],\n",
       "       [0.55405405],\n",
       "       [0.60810811],\n",
       "       [0.68918919],\n",
       "       [0.71042471],\n",
       "       [0.83204633],\n",
       "       [1.        ],\n",
       "       [0.96911197],\n",
       "       [0.77992278],\n",
       "       [0.68918919],\n",
       "       [0.55212355],\n",
       "       [0.63320463]])"
      ]
     },
     "execution_count": 162,
     "metadata": {},
     "output_type": "execute_result"
    }
   ],
   "source": [
    "test_data"
   ]
  },
  {
   "cell_type": "code",
   "execution_count": 163,
   "metadata": {},
   "outputs": [],
   "source": [
    "import numpy\n",
    "# convert an array of values into a dataset matrix\n",
    "def create_dataset(dataset, time_step=1):\n",
    "    dataX, dataY = [], []\n",
    "    for i in range(len(dataset)-time_step-1):\n",
    "        a = dataset[i:(i+time_step), 0]   ###i=0, 0,1,2,3\n",
    "        dataX.append(a)\n",
    "        dataY.append(dataset[i + time_step, 0])\n",
    "    return numpy.array(dataX), numpy.array(dataY)"
   ]
  },
  {
   "cell_type": "code",
   "execution_count": 235,
   "metadata": {},
   "outputs": [
    {
     "name": "stdout",
     "output_type": "stream",
     "text": [
      "X_train:(91, 1),y_train:(91,),X_test:(49, 1),y_test(49,)\n"
     ]
    }
   ],
   "source": [
    "time_step = 1\n",
    "X_train, y_train = create_dataset(train_data, time_step)\n",
    "X_test, y_test = create_dataset(test_data, time_step)\n",
    "print(\"X_train:{},y_train:{},X_test:{},y_test{}\".format(X_train.shape, y_train.shape, X_test.shape, y_test.shape))"
   ]
  },
  {
   "cell_type": "code",
   "execution_count": 236,
   "metadata": {},
   "outputs": [
    {
     "data": {
      "text/plain": [
       "array([[0.38996139],\n",
       "       [0.32239382],\n",
       "       [0.38996139],\n",
       "       [0.40733591],\n",
       "       [0.38030888],\n",
       "       [0.48648649],\n",
       "       [0.47104247],\n",
       "       [0.48455598],\n",
       "       [0.61389961],\n",
       "       [0.6969112 ],\n",
       "       [0.7007722 ],\n",
       "       [0.57915058],\n",
       "       [0.46911197],\n",
       "       [0.38803089],\n",
       "       [0.44787645],\n",
       "       [0.45559846],\n",
       "       [0.41312741],\n",
       "       [0.4980695 ],\n",
       "       [0.47104247],\n",
       "       [0.5       ],\n",
       "       [0.63899614],\n",
       "       [0.74710425],\n",
       "       [0.77413127],\n",
       "       [0.57915058],\n",
       "       [0.49227799],\n",
       "       [0.3976834 ],\n",
       "       [0.44980695],\n",
       "       [0.49420849],\n",
       "       [0.45945946],\n",
       "       [0.58301158],\n",
       "       [0.56370656],\n",
       "       [0.61003861],\n",
       "       [0.71042471],\n",
       "       [0.85714286],\n",
       "       [0.87837838],\n",
       "       [0.69305019],\n",
       "       [0.58494208],\n",
       "       [0.4980695 ],\n",
       "       [0.58108108],\n",
       "       [0.6042471 ],\n",
       "       [0.55405405],\n",
       "       [0.60810811],\n",
       "       [0.68918919],\n",
       "       [0.71042471],\n",
       "       [0.83204633],\n",
       "       [1.        ],\n",
       "       [0.96911197],\n",
       "       [0.77992278],\n",
       "       [0.68918919]])"
      ]
     },
     "execution_count": 236,
     "metadata": {},
     "output_type": "execute_result"
    }
   ],
   "source": [
    "X_test"
   ]
  },
  {
   "cell_type": "code",
   "execution_count": 237,
   "metadata": {},
   "outputs": [
    {
     "name": "stdout",
     "output_type": "stream",
     "text": [
      "X_train:(91, 1),y_train:(91, 1),X_test:(49, 1),y_test(49, 1)\n"
     ]
    }
   ],
   "source": [
    "#reshape\n",
    "y_train=y_train.reshape(-1,1)\n",
    "y_test=y_test.reshape(-1,1)\n",
    "print(\"X_train:{},y_train:{},X_test:{},y_test{}\".format(X_train.shape, y_train.shape, X_test.shape, y_test.shape))"
   ]
  },
  {
   "cell_type": "code",
   "execution_count": 238,
   "metadata": {},
   "outputs": [],
   "source": [
    "# reshape input to be [samples, time steps, features] 3D which is required for LSTM\n",
    "\n",
    "X_train = np.reshape(X_train, (X_train.shape[0],X_train.shape[1],1))\n",
    "X_test = np.reshape(X_test, (X_test.shape[0],X_test.shape[1],1))"
   ]
  },
  {
   "cell_type": "code",
   "execution_count": 239,
   "metadata": {},
   "outputs": [
    {
     "data": {
      "text/plain": [
       "(91, 1, 1)"
      ]
     },
     "execution_count": 239,
     "metadata": {},
     "output_type": "execute_result"
    }
   ],
   "source": [
    "X_train.shape"
   ]
  },
  {
   "cell_type": "code",
   "execution_count": 240,
   "metadata": {},
   "outputs": [],
   "source": [
    "### Create the LSTM model\n",
    "from tensorflow.keras.models import Sequential\n",
    "from tensorflow.keras.layers import Dense\n",
    "from tensorflow.keras.layers import LSTM"
   ]
  },
  {
   "cell_type": "code",
   "execution_count": 241,
   "metadata": {},
   "outputs": [
    {
     "name": "stdout",
     "output_type": "stream",
     "text": [
      "Train on 91 samples, validate on 49 samples\n",
      "Epoch 1/100\n",
      "91/91 [==============================] - 2s 24ms/sample - loss: 0.0225 - val_loss: 0.0911\n",
      "Epoch 2/100\n",
      "91/91 [==============================] - 0s 3ms/sample - loss: 0.0097 - val_loss: 0.0383\n",
      "Epoch 3/100\n",
      "91/91 [==============================] - 0s 3ms/sample - loss: 0.0057 - val_loss: 0.0127\n",
      "Epoch 4/100\n",
      "91/91 [==============================] - 0s 3ms/sample - loss: 0.0027 - val_loss: 0.0100\n",
      "Epoch 5/100\n",
      "91/91 [==============================] - 0s 3ms/sample - loss: 0.0020 - val_loss: 0.0137\n",
      "Epoch 6/100\n",
      "91/91 [==============================] - 0s 3ms/sample - loss: 0.0019 - val_loss: 0.0109\n",
      "Epoch 7/100\n",
      "91/91 [==============================] - 0s 3ms/sample - loss: 0.0023 - val_loss: 0.0124\n",
      "Epoch 8/100\n",
      "91/91 [==============================] - ETA: 0s - loss: 0.0019  - 0s 3ms/sample - loss: 0.0020 - val_loss: 0.0118\n",
      "Epoch 9/100\n",
      "91/91 [==============================] - 0s 3ms/sample - loss: 0.0022 - val_loss: 0.0107\n",
      "Epoch 10/100\n",
      "91/91 [==============================] - 0s 3ms/sample - loss: 0.0022 - val_loss: 0.0119\n",
      "Epoch 11/100\n",
      "91/91 [==============================] - 0s 3ms/sample - loss: 0.0021 - val_loss: 0.0110\n",
      "Epoch 12/100\n",
      "91/91 [==============================] - 0s 3ms/sample - loss: 0.0022 - val_loss: 0.0098\n",
      "Epoch 13/100\n",
      "91/91 [==============================] - 0s 3ms/sample - loss: 0.0021 - val_loss: 0.0123\n",
      "Epoch 14/100\n",
      "91/91 [==============================] - 0s 3ms/sample - loss: 0.0020 - val_loss: 0.0102\n",
      "Epoch 15/100\n",
      "91/91 [==============================] - 0s 3ms/sample - loss: 0.0021 - val_loss: 0.0106\n",
      "Epoch 16/100\n",
      "91/91 [==============================] - 0s 3ms/sample - loss: 0.0020 - val_loss: 0.0106\n",
      "Epoch 17/100\n",
      "91/91 [==============================] - 0s 3ms/sample - loss: 0.0020 - val_loss: 0.0131\n",
      "Epoch 18/100\n",
      "91/91 [==============================] - 0s 3ms/sample - loss: 0.0020 - val_loss: 0.0105\n",
      "Epoch 19/100\n",
      "91/91 [==============================] - 0s 3ms/sample - loss: 0.0021 - val_loss: 0.0102\n",
      "Epoch 20/100\n",
      "91/91 [==============================] - 0s 3ms/sample - loss: 0.0025 - val_loss: 0.0096\n",
      "Epoch 21/100\n",
      "91/91 [==============================] - 0s 3ms/sample - loss: 0.0022 - val_loss: 0.0110\n",
      "Epoch 22/100\n",
      "91/91 [==============================] - 0s 3ms/sample - loss: 0.0022 - val_loss: 0.0095\n",
      "Epoch 23/100\n",
      "91/91 [==============================] - 0s 3ms/sample - loss: 0.0020 - val_loss: 0.0101\n",
      "Epoch 24/100\n",
      "91/91 [==============================] - 0s 3ms/sample - loss: 0.0021 - val_loss: 0.0113\n",
      "Epoch 25/100\n",
      "91/91 [==============================] - 0s 3ms/sample - loss: 0.0021 - val_loss: 0.0099\n",
      "Epoch 26/100\n",
      "91/91 [==============================] - 0s 3ms/sample - loss: 0.0022 - val_loss: 0.0092\n",
      "Epoch 27/100\n",
      "91/91 [==============================] - 0s 3ms/sample - loss: 0.0021 - val_loss: 0.0146\n",
      "Epoch 28/100\n",
      "91/91 [==============================] - 0s 3ms/sample - loss: 0.0023 - val_loss: 0.0098\n",
      "Epoch 29/100\n",
      "91/91 [==============================] - 0s 2ms/sample - loss: 0.0022 - val_loss: 0.0145\n",
      "Epoch 30/100\n",
      "91/91 [==============================] - ETA: 0s - loss: 0.001 - 0s 3ms/sample - loss: 0.0021 - val_loss: 0.0095\n",
      "Epoch 31/100\n",
      "91/91 [==============================] - 0s 3ms/sample - loss: 0.0020 - val_loss: 0.0089\n",
      "Epoch 32/100\n",
      "91/91 [==============================] - 0s 2ms/sample - loss: 0.0020 - val_loss: 0.0090\n",
      "Epoch 33/100\n",
      "91/91 [==============================] - 0s 3ms/sample - loss: 0.0021 - val_loss: 0.0094\n",
      "Epoch 34/100\n",
      "91/91 [==============================] - 0s 3ms/sample - loss: 0.0019 - val_loss: 0.0112\n",
      "Epoch 35/100\n",
      "91/91 [==============================] - 0s 3ms/sample - loss: 0.0023 - val_loss: 0.0092\n",
      "Epoch 36/100\n",
      "91/91 [==============================] - 0s 3ms/sample - loss: 0.0020 - val_loss: 0.0094\n",
      "Epoch 37/100\n",
      "91/91 [==============================] - 0s 3ms/sample - loss: 0.0022 - val_loss: 0.0093\n",
      "Epoch 38/100\n",
      "91/91 [==============================] - 0s 3ms/sample - loss: 0.0020 - val_loss: 0.0097\n",
      "Epoch 39/100\n",
      "91/91 [==============================] - 0s 3ms/sample - loss: 0.0020 - val_loss: 0.0105\n",
      "Epoch 40/100\n",
      "91/91 [==============================] - 0s 3ms/sample - loss: 0.0019 - val_loss: 0.0088\n",
      "Epoch 41/100\n",
      "91/91 [==============================] - 0s 3ms/sample - loss: 0.0021 - val_loss: 0.0126\n",
      "Epoch 42/100\n",
      "91/91 [==============================] - 0s 3ms/sample - loss: 0.0020 - val_loss: 0.0094\n",
      "Epoch 43/100\n",
      "91/91 [==============================] - 0s 3ms/sample - loss: 0.0020 - val_loss: 0.0090\n",
      "Epoch 44/100\n",
      "91/91 [==============================] - 0s 3ms/sample - loss: 0.0019 - val_loss: 0.0096\n",
      "Epoch 45/100\n",
      "91/91 [==============================] - 0s 3ms/sample - loss: 0.0021 - val_loss: 0.0088\n",
      "Epoch 46/100\n",
      "91/91 [==============================] - 0s 3ms/sample - loss: 0.0020 - val_loss: 0.0108\n",
      "Epoch 47/100\n",
      "91/91 [==============================] - 0s 3ms/sample - loss: 0.0023 - val_loss: 0.0094\n",
      "Epoch 48/100\n",
      "91/91 [==============================] - 0s 3ms/sample - loss: 0.0021 - val_loss: 0.0086\n",
      "Epoch 49/100\n",
      "91/91 [==============================] - 0s 3ms/sample - loss: 0.0021 - val_loss: 0.0088\n",
      "Epoch 50/100\n",
      "91/91 [==============================] - 0s 3ms/sample - loss: 0.0023 - val_loss: 0.0085\n",
      "Epoch 51/100\n",
      "91/91 [==============================] - 0s 3ms/sample - loss: 0.0020 - val_loss: 0.0091\n",
      "Epoch 52/100\n",
      "91/91 [==============================] - 0s 3ms/sample - loss: 0.0021 - val_loss: 0.0089\n",
      "Epoch 53/100\n",
      "91/91 [==============================] - 0s 3ms/sample - loss: 0.0020 - val_loss: 0.0092\n",
      "Epoch 54/100\n",
      "91/91 [==============================] - 0s 3ms/sample - loss: 0.0021 - val_loss: 0.00930\n",
      "Epoch 55/100\n",
      "91/91 [==============================] - ETA: 0s - loss: 0.0021  - 0s 3ms/sample - loss: 0.0021 - val_loss: 0.0091\n",
      "Epoch 56/100\n",
      "91/91 [==============================] - 0s 3ms/sample - loss: 0.0020 - val_loss: 0.0089\n",
      "Epoch 57/100\n",
      "91/91 [==============================] - 0s 3ms/sample - loss: 0.0021 - val_loss: 0.0095\n",
      "Epoch 58/100\n",
      "91/91 [==============================] - 0s 3ms/sample - loss: 0.0021 - val_loss: 0.0086\n",
      "Epoch 59/100\n",
      "91/91 [==============================] - 0s 3ms/sample - loss: 0.0020 - val_loss: 0.0093\n",
      "Epoch 60/100\n",
      "91/91 [==============================] - 0s 3ms/sample - loss: 0.0020 - val_loss: 0.0083\n",
      "Epoch 61/100\n",
      "91/91 [==============================] - ETA: 0s - loss: 0.0021  - 0s 3ms/sample - loss: 0.0022 - val_loss: 0.0084\n",
      "Epoch 62/100\n",
      "91/91 [==============================] - 0s 3ms/sample - loss: 0.0020 - val_loss: 0.0087\n",
      "Epoch 63/100\n",
      "91/91 [==============================] - 0s 3ms/sample - loss: 0.0020 - val_loss: 0.0085\n",
      "Epoch 64/100\n",
      "91/91 [==============================] - 0s 3ms/sample - loss: 0.0021 - val_loss: 0.0083\n",
      "Epoch 65/100\n",
      "91/91 [==============================] - 0s 3ms/sample - loss: 0.0020 - val_loss: 0.0089\n",
      "Epoch 66/100\n",
      "91/91 [==============================] - 0s 3ms/sample - loss: 0.0020 - val_loss: 0.0082\n",
      "Epoch 67/100\n",
      "91/91 [==============================] - 0s 3ms/sample - loss: 0.0020 - val_loss: 0.0081\n",
      "Epoch 68/100\n",
      "91/91 [==============================] - 0s 3ms/sample - loss: 0.0019 - val_loss: 0.0085\n",
      "Epoch 69/100\n",
      "91/91 [==============================] - 0s 3ms/sample - loss: 0.0019 - val_loss: 0.0091\n",
      "Epoch 70/100\n",
      "91/91 [==============================] - 0s 2ms/sample - loss: 0.0020 - val_loss: 0.0098\n",
      "Epoch 71/100\n",
      "91/91 [==============================] - 0s 3ms/sample - loss: 0.0021 - val_loss: 0.0086\n",
      "Epoch 72/100\n",
      "91/91 [==============================] - ETA: 0s - loss: 0.0019  - 0s 3ms/sample - loss: 0.0021 - val_loss: 0.0081\n",
      "Epoch 73/100\n",
      "91/91 [==============================] - 0s 2ms/sample - loss: 0.0020 - val_loss: 0.0081\n",
      "Epoch 74/100\n",
      "91/91 [==============================] - 0s 2ms/sample - loss: 0.0019 - val_loss: 0.0085\n",
      "Epoch 75/100\n",
      "91/91 [==============================] - 0s 3ms/sample - loss: 0.0021 - val_loss: 0.0097\n",
      "Epoch 76/100\n",
      "91/91 [==============================] - 0s 3ms/sample - loss: 0.0019 - val_loss: 0.0095\n",
      "Epoch 77/100\n",
      "91/91 [==============================] - 0s 3ms/sample - loss: 0.0023 - val_loss: 0.0082\n",
      "Epoch 78/100\n",
      "91/91 [==============================] - 0s 3ms/sample - loss: 0.0020 - val_loss: 0.0084\n",
      "Epoch 79/100\n",
      "91/91 [==============================] - 0s 3ms/sample - loss: 0.0020 - val_loss: 0.0081\n",
      "Epoch 80/100\n",
      "91/91 [==============================] - 0s 3ms/sample - loss: 0.0020 - val_loss: 0.0082\n",
      "Epoch 81/100\n",
      "91/91 [==============================] - 0s 3ms/sample - loss: 0.0021 - val_loss: 0.0083\n",
      "Epoch 82/100\n",
      "91/91 [==============================] - 0s 3ms/sample - loss: 0.0020 - val_loss: 0.0083\n",
      "Epoch 83/100\n",
      "91/91 [==============================] - 0s 3ms/sample - loss: 0.0021 - val_loss: 0.0082\n",
      "Epoch 84/100\n",
      "91/91 [==============================] - 0s 3ms/sample - loss: 0.0020 - val_loss: 0.0091\n",
      "Epoch 85/100\n",
      "91/91 [==============================] - 0s 3ms/sample - loss: 0.0020 - val_loss: 0.0091\n",
      "Epoch 86/100\n",
      "91/91 [==============================] - 0s 3ms/sample - loss: 0.0021 - val_loss: 0.0084\n",
      "Epoch 87/100\n",
      "91/91 [==============================] - ETA: 0s - loss: 0.0022  - 0s 3ms/sample - loss: 0.0021 - val_loss: 0.0080\n",
      "Epoch 88/100\n",
      "91/91 [==============================] - 0s 3ms/sample - loss: 0.0022 - val_loss: 0.0081\n",
      "Epoch 89/100\n",
      "91/91 [==============================] - 0s 3ms/sample - loss: 0.0020 - val_loss: 0.0087\n",
      "Epoch 90/100\n",
      "91/91 [==============================] - 0s 3ms/sample - loss: 0.0019 - val_loss: 0.0081027 \n",
      "Epoch 91/100\n",
      "91/91 [==============================] - 0s 2ms/sample - loss: 0.0019 - val_loss: 0.0081\n",
      "Epoch 92/100\n",
      "91/91 [==============================] - 0s 3ms/sample - loss: 0.0019 - val_loss: 0.0151\n",
      "Epoch 93/100\n",
      "91/91 [==============================] - 0s 3ms/sample - loss: 0.0021 - val_loss: 0.0084\n",
      "Epoch 94/100\n",
      "91/91 [==============================] - 0s 2ms/sample - loss: 0.0019 - val_loss: 0.0087\n",
      "Epoch 95/100\n",
      "91/91 [==============================] - 0s 3ms/sample - loss: 0.0021 - val_loss: 0.0085\n",
      "Epoch 96/100\n",
      "91/91 [==============================] - 0s 3ms/sample - loss: 0.0023 - val_loss: 0.0095\n",
      "Epoch 97/100\n",
      "91/91 [==============================] - 0s 3ms/sample - loss: 0.0019 - val_loss: 0.0082\n",
      "Epoch 98/100\n",
      "91/91 [==============================] - 0s 3ms/sample - loss: 0.0021 - val_loss: 0.0081\n",
      "Epoch 99/100\n",
      "91/91 [==============================] - 0s 3ms/sample - loss: 0.0019 - val_loss: 0.0082\n",
      "Epoch 100/100\n",
      "91/91 [==============================] - 0s 3ms/sample - loss: 0.0021 - val_loss: 0.0090\n"
     ]
    },
    {
     "data": {
      "text/plain": [
       "<tensorflow.python.keras.callbacks.History at 0x1f86e484b08>"
      ]
     },
     "execution_count": 241,
     "metadata": {},
     "output_type": "execute_result"
    }
   ],
   "source": [
    "model=Sequential()\n",
    "model.add(LSTM(50,return_sequences=True,input_shape=(time_step,1)))\n",
    "model.add(LSTM(50))\n",
    "model.add(Dense(1))\n",
    "model.compile(loss='mean_squared_error',optimizer='adam')\n",
    "model.fit(X_train,y_train,validation_data=(X_test,ytest),epochs=100,batch_size=1,verbose=1)"
   ]
  },
  {
   "cell_type": "code",
   "execution_count": 242,
   "metadata": {},
   "outputs": [
    {
     "name": "stdout",
     "output_type": "stream",
     "text": [
      "Model: \"sequential_24\"\n",
      "_________________________________________________________________\n",
      "Layer (type)                 Output Shape              Param #   \n",
      "=================================================================\n",
      "lstm_48 (LSTM)               (None, 1, 50)             10400     \n",
      "_________________________________________________________________\n",
      "lstm_49 (LSTM)               (None, 50)                20200     \n",
      "_________________________________________________________________\n",
      "dense_24 (Dense)             (None, 1)                 51        \n",
      "=================================================================\n",
      "Total params: 30,651\n",
      "Trainable params: 30,651\n",
      "Non-trainable params: 0\n",
      "_________________________________________________________________\n"
     ]
    }
   ],
   "source": [
    "model.summary()"
   ]
  },
  {
   "cell_type": "code",
   "execution_count": 243,
   "metadata": {},
   "outputs": [],
   "source": [
    "### Lets Do the prediction and check performance metrics\n",
    "train_predict=model.predict(X_train)\n",
    "test_predict=model.predict(X_test)"
   ]
  },
  {
   "cell_type": "code",
   "execution_count": 244,
   "metadata": {},
   "outputs": [
    {
     "data": {
      "text/plain": [
       "array([[0.41095394],\n",
       "       [0.3412889 ],\n",
       "       [0.41095394],\n",
       "       [0.4288736 ],\n",
       "       [0.40099803],\n",
       "       [0.5104127 ],\n",
       "       [0.49452278],\n",
       "       [0.5084272 ],\n",
       "       [0.640769  ],\n",
       "       [0.7246253 ],\n",
       "       [0.7284986 ],\n",
       "       [0.6053804 ],\n",
       "       [0.49253556],\n",
       "       [0.4089628 ],\n",
       "       [0.470666  ],\n",
       "       [0.4786208 ],\n",
       "       [0.43484616],\n",
       "       [0.522321  ],\n",
       "       [0.49452278],\n",
       "       [0.5243048 ],\n",
       "       [0.6662301 ],\n",
       "       [0.77476466],\n",
       "       [0.80155927],\n",
       "       [0.6053804 ],\n",
       "       [0.516368  ],\n",
       "       [0.41891852],\n",
       "       [0.47265485],\n",
       "       [0.51835245],\n",
       "       [0.4825973 ],\n",
       "       [0.6093197 ],\n",
       "       [0.58960736],\n",
       "       [0.6368443 ],\n",
       "       [0.73817027],\n",
       "       [0.88285375],\n",
       "       [0.9033859 ],\n",
       "       [0.7207494 ],\n",
       "       [0.61128855],\n",
       "       [0.522321  ],\n",
       "       [0.60735023],\n",
       "       [0.6309538 ],\n",
       "       [0.5797364 ],\n",
       "       [0.6348813 ],\n",
       "       [0.7168709 ],\n",
       "       [0.73817027],\n",
       "       [0.85844487],\n",
       "       [1.0186535 ],\n",
       "       [0.98977304],\n",
       "       [0.80728126],\n",
       "       [0.7168709 ]], dtype=float32)"
      ]
     },
     "execution_count": 244,
     "metadata": {},
     "output_type": "execute_result"
    }
   ],
   "source": [
    "test_predict"
   ]
  },
  {
   "cell_type": "code",
   "execution_count": 245,
   "metadata": {},
   "outputs": [],
   "source": [
    "##Transformback to original form scaler\n",
    "train_predict=scaler.inverse_transform(train_predict)\n",
    "test_predict=scaler.inverse_transform(test_predict)"
   ]
  },
  {
   "cell_type": "code",
   "execution_count": 246,
   "metadata": {},
   "outputs": [
    {
     "data": {
      "text/plain": [
       "array([[0.41095394],\n",
       "       [0.3412889 ],\n",
       "       [0.41095394],\n",
       "       [0.4288736 ],\n",
       "       [0.40099803],\n",
       "       [0.5104127 ],\n",
       "       [0.49452278],\n",
       "       [0.5084272 ],\n",
       "       [0.640769  ],\n",
       "       [0.7246253 ],\n",
       "       [0.7284986 ],\n",
       "       [0.6053804 ],\n",
       "       [0.49253556],\n",
       "       [0.4089628 ],\n",
       "       [0.470666  ],\n",
       "       [0.4786208 ],\n",
       "       [0.43484616],\n",
       "       [0.522321  ],\n",
       "       [0.49452278],\n",
       "       [0.5243048 ],\n",
       "       [0.6662301 ],\n",
       "       [0.77476466],\n",
       "       [0.80155927],\n",
       "       [0.6053804 ],\n",
       "       [0.516368  ],\n",
       "       [0.41891852],\n",
       "       [0.47265485],\n",
       "       [0.51835245],\n",
       "       [0.4825973 ],\n",
       "       [0.6093197 ],\n",
       "       [0.58960736],\n",
       "       [0.6368443 ],\n",
       "       [0.73817027],\n",
       "       [0.88285375],\n",
       "       [0.9033859 ],\n",
       "       [0.7207494 ],\n",
       "       [0.61128855],\n",
       "       [0.522321  ],\n",
       "       [0.60735023],\n",
       "       [0.6309538 ],\n",
       "       [0.5797364 ],\n",
       "       [0.6348813 ],\n",
       "       [0.7168709 ],\n",
       "       [0.73817027],\n",
       "       [0.85844487],\n",
       "       [1.0186535 ],\n",
       "       [0.98977304],\n",
       "       [0.80728126],\n",
       "       [0.7168709 ]], dtype=float32)"
      ]
     },
     "execution_count": 246,
     "metadata": {},
     "output_type": "execute_result"
    }
   ],
   "source": [
    "test_predict"
   ]
  },
  {
   "cell_type": "code",
   "execution_count": 247,
   "metadata": {},
   "outputs": [
    {
     "data": {
      "text/plain": [
       "0.043608964401542445"
      ]
     },
     "execution_count": 247,
     "metadata": {},
     "output_type": "execute_result"
    }
   ],
   "source": [
    "### Calculate RMSE performance metrics\n",
    "import math\n",
    "from sklearn.metrics import mean_squared_error\n",
    "math.sqrt(mean_squared_error(y_train,train_predict))"
   ]
  },
  {
   "cell_type": "code",
   "execution_count": 248,
   "metadata": {},
   "outputs": [
    {
     "data": {
      "text/plain": [
       "0.09466042029027201"
      ]
     },
     "execution_count": 248,
     "metadata": {},
     "output_type": "execute_result"
    }
   ],
   "source": [
    "# For test data\n",
    "math.sqrt(mean_squared_error(ytest,test_predict))"
   ]
  },
  {
   "cell_type": "code",
   "execution_count": 249,
   "metadata": {},
   "outputs": [
    {
     "data": {
      "image/png": "[encoded data removed]",
      "text/plain": [
       "<Figure size 432x288 with 1 Axes>"
      ]
     },
     "metadata": {
      "needs_background": "light"
     },
     "output_type": "display_data"
    }
   ],
   "source": [
    "### Plotting \n",
    "# shift train predictions for plotting\n",
    "look_back=1\n",
    "trainPredictPlot = numpy.empty_like(df)\n",
    "trainPredictPlot[:, :] = np.nan\n",
    "trainPredictPlot[look_back:len(train_predict)+look_back, :] = train_predict\n",
    "# shift test predictions for plotting\n",
    "testPredictPlot = numpy.empty_like(df)\n",
    "testPredictPlot[:, :] = numpy.nan\n",
    "testPredictPlot[len(train_predict)+(look_back*2)+1:len(df)-1, :] = test_predict\n",
    "# plot baseline and predictions\n",
    "plt.plot(scaler.inverse_transform(df))\n",
    "plt.plot(trainPredictPlot)\n",
    "plt.plot(testPredictPlot)\n",
    "plt.show()"
   ]
  },
  {
   "cell_type": "code",
   "execution_count": null,
   "metadata": {},
   "outputs": [],
   "source": []
  }
 ],
 "metadata": {
  "kernelspec": {
   "display_name": "Python 3",
   "language": "python",
   "name": "python3"
  },
  "language_info": {
   "codemirror_mode": {
    "name": "ipython",
    "version": 3
   },
   "file_extension": ".py",
   "mimetype": "text/x-python",
   "name": "python",
   "nbconvert_exporter": "python",
   "pygments_lexer": "ipython3",
   "version": "3.7.7"
  }
 },
 "nbformat": 4,
 "nbformat_minor": 4
}
